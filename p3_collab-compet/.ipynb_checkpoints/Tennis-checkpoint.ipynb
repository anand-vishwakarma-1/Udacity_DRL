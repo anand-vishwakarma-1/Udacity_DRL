{
 "cells": [
  {
   "cell_type": "markdown",
   "metadata": {},
   "source": [
    "# Collaboration and Competition\n",
    "\n",
    "---\n",
    "\n",
    "You are welcome to use this coding environment to train your agent for the project.  Follow the instructions below to get started!\n",
    "\n",
    "### 1. Start the Environment\n",
    "\n",
    "Run the next code cell to install a few packages.  This line will take a few minutes to run!"
   ]
  },
  {
   "cell_type": "code",
   "execution_count": 1,
   "metadata": {},
   "outputs": [
    {
     "name": "stdout",
     "output_type": "stream",
     "text": [
      "\u001b[31mtensorflow 1.7.1 has requirement numpy>=1.13.3, but you'll have numpy 1.12.1 which is incompatible.\u001b[0m\r\n",
      "\u001b[31mipython 6.5.0 has requirement prompt-toolkit<2.0.0,>=1.0.15, but you'll have prompt-toolkit 3.0.5 which is incompatible.\u001b[0m\r\n"
     ]
    }
   ],
   "source": [
    "!pip -q install ./python"
   ]
  },
  {
   "cell_type": "markdown",
   "metadata": {},
   "source": [
    "The environment is already saved in the Workspace and can be accessed at the file path provided below. "
   ]
  },
  {
   "cell_type": "code",
   "execution_count": 2,
   "metadata": {},
   "outputs": [
    {
     "name": "stderr",
     "output_type": "stream",
     "text": [
      "INFO:unityagents:\n",
      "'Academy' started successfully!\n",
      "Unity Academy name: Academy\n",
      "        Number of Brains: 1\n",
      "        Number of External Brains : 1\n",
      "        Lesson number : 0\n",
      "        Reset Parameters :\n",
      "\t\t\n",
      "Unity brain name: TennisBrain\n",
      "        Number of Visual Observations (per agent): 0\n",
      "        Vector Observation space type: continuous\n",
      "        Vector Observation space size (per agent): 8\n",
      "        Number of stacked Vector Observation: 3\n",
      "        Vector Action space type: continuous\n",
      "        Vector Action space size (per agent): 2\n",
      "        Vector Action descriptions: , \n"
     ]
    }
   ],
   "source": [
    "from unityagents import UnityEnvironment\n",
    "import numpy as np\n",
    "\n",
    "env = UnityEnvironment(file_name=\"/data/Tennis_Linux_NoVis/Tennis\")"
   ]
  },
  {
   "cell_type": "markdown",
   "metadata": {},
   "source": [
    "Environments contain **_brains_** which are responsible for deciding the actions of their associated agents. Here we check for the first brain available, and set it as the default brain we will be controlling from Python."
   ]
  },
  {
   "cell_type": "code",
   "execution_count": 3,
   "metadata": {},
   "outputs": [],
   "source": [
    "# get the default brain\n",
    "brain_name = env.brain_names[0]\n",
    "brain = env.brains[brain_name]"
   ]
  },
  {
   "cell_type": "markdown",
   "metadata": {},
   "source": [
    "### 2. Examine the State and Action Spaces\n",
    "\n",
    "Run the code cell below to print some information about the environment."
   ]
  },
  {
   "cell_type": "code",
   "execution_count": 4,
   "metadata": {},
   "outputs": [
    {
     "name": "stdout",
     "output_type": "stream",
     "text": [
      "Number of agents: 2\n",
      "Size of each action: 2\n",
      "There are 2 agents. Each observes a state with length: 24\n",
      "The state for the first agent looks like: [ 0.          0.          0.          0.          0.          0.          0.\n",
      "  0.          0.          0.          0.          0.          0.          0.\n",
      "  0.          0.         -6.65278625 -1.5        -0.          0.\n",
      "  6.83172083  6.         -0.          0.        ]\n"
     ]
    }
   ],
   "source": [
    "# reset the environment\n",
    "env_info = env.reset(train_mode=True)[brain_name]\n",
    "\n",
    "# number of agents \n",
    "num_agents = len(env_info.agents)\n",
    "print('Number of agents:', num_agents)\n",
    "\n",
    "# size of each action\n",
    "action_size = brain.vector_action_space_size\n",
    "print('Size of each action:', action_size)\n",
    "\n",
    "# examine the state space \n",
    "states = env_info.vector_observations\n",
    "state_size = states.shape[1]\n",
    "print('There are {} agents. Each observes a state with length: {}'.format(states.shape[0], state_size))\n",
    "print('The state for the first agent looks like:', states[0])"
   ]
  },
  {
   "cell_type": "markdown",
   "metadata": {},
   "source": [
    "### 3. Take Random Actions in the Environment\n",
    "\n",
    "In the next code cell, you will learn how to use the Python API to control the agent and receive feedback from the environment.\n",
    "\n",
    "Note that **in this coding environment, you will not be able to watch the agents while they are training**, and you should set `train_mode=True` to restart the environment."
   ]
  },
  {
   "cell_type": "code",
   "execution_count": 5,
   "metadata": {},
   "outputs": [
    {
     "name": "stdout",
     "output_type": "stream",
     "text": [
      "Total score (averaged over agents) 0th episode: -0.004999999888241291\n",
      "Total score (averaged over agents) 1th episode: -0.004999999888241291\n",
      "Total score (averaged over agents) 2th episode: -0.004999999888241291\n",
      "Total score (averaged over agents) 3th episode: -0.004999999888241291\n",
      "Total score (averaged over agents) 4th episode: -0.004999999888241291\n"
     ]
    }
   ],
   "source": [
    "for i in range(5):                                         # play game for 5 episodes\n",
    "    env_info = env.reset(train_mode=False)[brain_name]     # reset the environment    \n",
    "    states = env_info.vector_observations                  # get the current state (for each agent)\n",
    "    scores = np.zeros(num_agents)                          # initialize the score (for each agent)\n",
    "    while True:\n",
    "        actions = np.random.randn(num_agents, action_size) # select an action (for each agent)\n",
    "        actions = np.clip(actions, -1, 1)                  # all actions between -1 and 1\n",
    "        env_info = env.step(actions)[brain_name]           # send all actions to tne environment\n",
    "        next_states = env_info.vector_observations         # get next state (for each agent)\n",
    "        rewards = env_info.rewards                         # get reward (for each agent)\n",
    "        dones = env_info.local_done                        # see if episode finished\n",
    "        scores += env_info.rewards                         # update the score (for each agent)\n",
    "        states = next_states                               # roll over states to next time step\n",
    "        if np.any(dones):                                  # exit loop if episode finished\n",
    "            break\n",
    "    print('Total score (averaged over agents) {}th episode: {}'.format(i,np.mean(scores)))"
   ]
  },
  {
   "cell_type": "markdown",
   "metadata": {},
   "source": [
    "When finished, you can close the environment."
   ]
  },
  {
   "cell_type": "code",
   "execution_count": 6,
   "metadata": {},
   "outputs": [],
   "source": [
    "# env.close()"
   ]
  },
  {
   "cell_type": "markdown",
   "metadata": {},
   "source": [
    "### 4. It's Your Turn!\n",
    "\n",
    "Now it's your turn to train your own agent to solve the environment!  A few **important notes**:\n",
    "- When training the environment, set `train_mode=True`, so that the line for resetting the environment looks like the following:\n",
    "```python\n",
    "env_info = env.reset(train_mode=True)[brain_name]\n",
    "```\n",
    "- To structure your work, you're welcome to work directly in this Jupyter notebook, or you might like to start over with a new file!  You can see the list of files in the workspace by clicking on **_Jupyter_** in the top left corner of the notebook.\n",
    "- In this coding environment, you will not be able to watch the agents while they are training.  However, **_after training the agents_**, you can download the saved model weights to watch the agents on your own machine! "
   ]
  },
  {
   "cell_type": "code",
   "execution_count": 7,
   "metadata": {},
   "outputs": [],
   "source": [
    "from agent_handler import AgentHandler\n",
    "\n",
    "maddpg = AgentHandler()"
   ]
  },
  {
   "cell_type": "code",
   "execution_count": 8,
   "metadata": {},
   "outputs": [],
   "source": [
    "## Saves model weights to file\n",
    "def save_weights(dir,i_episode):\n",
    "    for i in range(num_agents):\n",
    "        torch.save(maddpg.agents[i].actor_local.state_dict(),                     \n",
    "              os.path.join(dir, 'checkpoint_actor_{}_{}.pth'.format(i,i_episode)) )\n",
    "        torch.save(maddpg.agents[i].critic_local.state_dict(), \n",
    "              os.path.join(dir, 'checkpoint_critic_{}_{}.pth'.format(i,i_episode)) )"
   ]
  },
  {
   "cell_type": "code",
   "execution_count": 9,
   "metadata": {},
   "outputs": [
    {
     "name": "stdout",
     "output_type": "stream",
     "text": [
      "Episode: 50, Score: -0.0050, \tAverage Score: -0.0030, Time: 00:00:05 \n",
      "Episode: 100, Score: -0.0050, \tAverage Score: -0.0040, Time: 00:00:11 \n",
      "Episode: 150, Score: -0.0050, \tAverage Score: -0.0050, Time: 00:00:16 \n",
      "Episode: 200, Score: -0.0050, \tAverage Score: -0.0035, Time: 00:00:22 \n",
      "Episode: 250, Score: -0.0050, \tAverage Score: -0.0035, Time: 00:00:28 \n",
      "Episode: 300, Score: -0.0050, \tAverage Score: -0.0050, Time: 00:00:33 \n",
      "Episode: 350, Score: -0.0050, \tAverage Score: -0.0050, Time: 00:00:39 \n",
      "Episode: 400, Score: -0.0050, \tAverage Score: -0.0050, Time: 00:00:44 \n",
      "Episode: 450, Score: -0.0050, \tAverage Score: -0.0050, Time: 00:00:50 \n",
      "Episode: 500, Score: -0.0050, \tAverage Score: -0.0050, Time: 00:00:56 \n",
      "Episode: 550, Score: -0.0050, \tAverage Score: -0.0050, Time: 00:01:02 \n",
      "Episode: 600, Score: -0.0050, \tAverage Score: -0.0050, Time: 00:01:07 \n",
      "Episode: 650, Score: -0.0050, \tAverage Score: -0.0050, Time: 00:01:13 \n",
      "Episode: 700, Score: -0.0050, \tAverage Score: -0.0005, Time: 00:01:21 \n",
      "Episode: 750, Score: -0.0050, \tAverage Score: 0.0050, Time: 00:01:29 \n",
      "Episode: 800, Score: -0.0050, \tAverage Score: 0.0005, Time: 00:01:34 \n",
      "Episode: 850, Score: -0.0050, \tAverage Score: -0.0050, Time: 00:01:40 \n",
      "Episode: 900, Score: -0.0050, \tAverage Score: -0.0050, Time: 00:01:46 \n",
      "Episode: 950, Score: -0.0050, \tAverage Score: -0.0050, Time: 00:01:51 \n",
      "Episode: 1000, Score: -0.0050, \tAverage Score: -0.0050, Time: 00:01:57 \n",
      "Episode: 1050, Score: -0.0050, \tAverage Score: -0.0050, Time: 00:02:02 \n",
      "Episode: 1100, Score: -0.0050, \tAverage Score: -0.0050, Time: 00:02:08 \n",
      "Episode: 1150, Score: -0.0050, \tAverage Score: -0.0050, Time: 00:02:14 \n",
      "Episode: 1200, Score: -0.0050, \tAverage Score: -0.0025, Time: 00:02:20 \n",
      "Episode: 1250, Score: -0.0050, \tAverage Score: 0.0015, Time: 00:02:27 \n",
      "Episode: 1300, Score: -0.0050, \tAverage Score: -0.0010, Time: 00:02:33 \n",
      "Episode: 1350, Score: -0.0050, \tAverage Score: -0.0020, Time: 00:02:39 \n",
      "Episode: 1400, Score: -0.0050, \tAverage Score: -0.0010, Time: 00:02:45 \n",
      "Episode: 1450, Score: 0.0450, \tAverage Score: 0.0000, Time: 00:02:52 \n",
      "Episode: 1500, Score: 0.0450, \tAverage Score: 0.0035, Time: 00:02:59 \n",
      "Episode: 1550, Score: -0.0050, \tAverage Score: 0.0050, Time: 00:03:07 \n",
      "Episode: 1600, Score: 0.0450, \tAverage Score: 0.0050, Time: 00:03:14 \n",
      "Episode: 1650, Score: -0.0050, \tAverage Score: 0.0060, Time: 00:03:21 \n",
      "Episode: 1700, Score: -0.0050, \tAverage Score: 0.0075, Time: 00:03:28 \n",
      "Episode: 1750, Score: -0.0050, \tAverage Score: 0.0075, Time: 00:03:36 \n",
      "Episode: 1800, Score: -0.0050, \tAverage Score: 0.0060, Time: 00:03:43 \n",
      "Episode: 1850, Score: -0.0050, \tAverage Score: 0.0075, Time: 00:03:51 \n",
      "Episode: 1900, Score: -0.0050, \tAverage Score: 0.0090, Time: 00:03:58 \n",
      "Episode: 1950, Score: 0.0450, \tAverage Score: 0.0080, Time: 00:04:06 \n",
      "Episode: 2000, Score: -0.0050, \tAverage Score: 0.0090, Time: 00:04:14 \n",
      "Episode: 2050, Score: -0.0050, \tAverage Score: 0.0080, Time: 00:04:21 \n",
      "Episode: 2100, Score: 0.0450, \tAverage Score: 0.0055, Time: 00:04:28 \n",
      "Episode: 2150, Score: -0.0050, \tAverage Score: 0.0090, Time: 00:04:37 \n",
      "Episode: 2200, Score: -0.0050, \tAverage Score: 0.0145, Time: 00:04:46 \n",
      "Episode: 2250, Score: -0.0050, \tAverage Score: 0.0205, Time: 00:04:56 \n",
      "Episode: 2300, Score: -0.0050, \tAverage Score: 0.0215, Time: 00:05:05 \n",
      "Episode: 2350, Score: -0.0050, \tAverage Score: 0.0125, Time: 00:05:12 \n",
      "Episode: 2400, Score: -0.0050, \tAverage Score: 0.0090, Time: 00:05:20 \n",
      "Episode: 2450, Score: -0.0050, \tAverage Score: 0.0170, Time: 00:05:30 \n",
      "Episode: 2500, Score: -0.0050, \tAverage Score: 0.0175, Time: 00:05:38 \n",
      "Episode: 2550, Score: -0.0050, \tAverage Score: 0.0075, Time: 00:05:45 \n",
      "Episode: 2600, Score: -0.0050, \tAverage Score: 0.0040, Time: 00:05:52 \n",
      "Episode: 2650, Score: -0.0050, \tAverage Score: 0.0035, Time: 00:06:00 \n",
      "Episode: 2700, Score: -0.0050, \tAverage Score: 0.0010, Time: 00:06:06 \n",
      "Episode: 2750, Score: -0.0050, \tAverage Score: 0.0060, Time: 00:06:14 \n",
      "Episode: 2800, Score: 0.0450, \tAverage Score: 0.0135, Time: 00:06:23 \n",
      "Episode: 2850, Score: -0.0050, \tAverage Score: 0.0095, Time: 00:06:30 \n",
      "Episode: 2900, Score: -0.0050, \tAverage Score: 0.0030, Time: 00:06:37 \n",
      "Episode: 2950, Score: -0.0050, \tAverage Score: 0.0005, Time: 00:06:43 \n",
      "Episode: 3000, Score: -0.0050, \tAverage Score: 0.0030, Time: 00:06:50 \n",
      "Episode: 3050, Score: -0.0050, \tAverage Score: 0.0080, Time: 00:06:58 \n",
      "Episode: 3100, Score: 0.0450, \tAverage Score: 0.0125, Time: 00:07:07 \n",
      "Episode: 3150, Score: -0.0050, \tAverage Score: 0.0110, Time: 00:07:15 \n",
      "Episode: 3200, Score: -0.0050, \tAverage Score: 0.0080, Time: 00:07:22 \n",
      "Episode: 3250, Score: 0.0450, \tAverage Score: 0.0110, Time: 00:07:31 \n",
      "Episode: 3300, Score: 0.0450, \tAverage Score: 0.0150, Time: 00:07:40 \n",
      "Episode: 3350, Score: -0.0050, \tAverage Score: 0.0110, Time: 00:07:47 \n",
      "Episode: 3400, Score: -0.0050, \tAverage Score: 0.0095, Time: 00:07:56 \n",
      "Episode: 3450, Score: -0.0050, \tAverage Score: 0.0105, Time: 00:08:03 \n",
      "Episode: 3500, Score: -0.0050, \tAverage Score: 0.0075, Time: 00:08:11 \n",
      "Episode: 3550, Score: 0.0450, \tAverage Score: 0.0095, Time: 00:08:20 \n",
      "Episode: 3600, Score: 0.0450, \tAverage Score: 0.0115, Time: 00:08:28 \n",
      "Episode: 3650, Score: -0.0050, \tAverage Score: 0.0100, Time: 00:08:36 \n",
      "Episode: 3700, Score: -0.0050, \tAverage Score: 0.0125, Time: 00:08:45 \n",
      "Episode: 3750, Score: 0.0450, \tAverage Score: 0.0195, Time: 00:08:55 \n",
      "Episode: 3800, Score: -0.0050, \tAverage Score: 0.0215, Time: 00:09:05 \n",
      "Episode: 3850, Score: 0.0450, \tAverage Score: 0.0190, Time: 00:09:15 \n",
      "Episode: 3900, Score: -0.0050, \tAverage Score: 0.0115, Time: 00:09:23 \n",
      "Episode: 3950, Score: -0.0050, \tAverage Score: 0.0060, Time: 00:09:30 \n",
      "Episode: 4000, Score: 0.0450, \tAverage Score: 0.0085, Time: 00:09:40 \n",
      "Episode: 4050, Score: -0.0050, \tAverage Score: 0.0095, Time: 00:09:48 \n",
      "Episode: 4100, Score: -0.0050, \tAverage Score: 0.0115, Time: 00:09:57 \n",
      "Episode: 4150, Score: -0.0050, \tAverage Score: 0.0070, Time: 00:10:03 \n",
      "Episode: 4200, Score: -0.0050, \tAverage Score: -0.0020, Time: 00:10:10 \n",
      "Episode: 4250, Score: 0.0450, \tAverage Score: 0.0025, Time: 00:10:18 \n",
      "Episode: 4300, Score: -0.0050, \tAverage Score: 0.0115, Time: 00:10:27 \n",
      "Episode: 4350, Score: 0.0450, \tAverage Score: 0.0145, Time: 00:10:36 \n",
      "Episode: 4400, Score: -0.0050, \tAverage Score: 0.0140, Time: 00:10:45 \n",
      "Episode: 4450, Score: -0.0050, \tAverage Score: 0.0105, Time: 00:10:53 \n",
      "Episode: 4500, Score: -0.0050, \tAverage Score: 0.0115, Time: 00:11:02 \n",
      "Episode: 4550, Score: 0.0450, \tAverage Score: 0.0180, Time: 00:11:13 \n",
      "Episode: 4600, Score: -0.0050, \tAverage Score: 0.0215, Time: 00:11:23 \n",
      "Episode: 4650, Score: -0.0050, \tAverage Score: 0.0255, Time: 00:11:34 \n",
      "Episode: 4700, Score: -0.0050, \tAverage Score: 0.0290, Time: 00:11:45 \n",
      "Episode: 4750, Score: -0.0050, \tAverage Score: 0.0360, Time: 00:11:58 \n",
      "Episode: 4800, Score: -0.0050, \tAverage Score: 0.0390, Time: 00:12:10 \n",
      "Episode: 4850, Score: -0.0050, \tAverage Score: 0.0350, Time: 00:12:22 \n",
      "Episode: 4900, Score: 0.0450, \tAverage Score: 0.0415, Time: 00:12:37 \n",
      "Episode: 4950, Score: -0.0050, \tAverage Score: 0.0540, Time: 00:12:53 \n",
      "Episode: 5000, Score: 0.0450, \tAverage Score: 0.0555, Time: 00:13:07 \n",
      "Episode: 5050, Score: 0.3450, \tAverage Score: 0.0585, Time: 00:13:25 \n",
      "Episode: 5100, Score: 0.0450, \tAverage Score: 0.0810, Time: 00:13:47 \n",
      "Episode: 5150, Score: -0.0050, \tAverage Score: 0.0790, Time: 00:14:03 \n",
      "Episode: 5200, Score: 0.0950, \tAverage Score: 0.0660, Time: 00:14:22 \n",
      "Episode: 5250, Score: -0.0050, \tAverage Score: 0.0560, Time: 00:14:35 \n",
      "Episode: 5300, Score: -0.0050, \tAverage Score: 0.0365, Time: 00:14:47 \n",
      "Episode: 5350, Score: 0.0450, \tAverage Score: 0.0320, Time: 00:14:59 \n",
      "Episode: 5400, Score: -0.0050, \tAverage Score: 0.0280, Time: 00:15:10 \n",
      "Episode: 5450, Score: 0.0450, \tAverage Score: 0.0325, Time: 00:15:23 \n",
      "Episode: 5500, Score: 0.0450, \tAverage Score: 0.0510, Time: 00:15:39 \n",
      "Episode: 5550, Score: 0.0450, \tAverage Score: 0.0660, Time: 00:15:56 \n",
      "Episode: 5600, Score: 0.0450, \tAverage Score: 0.0635, Time: 00:16:12 \n",
      "Episode: 5650, Score: 0.0450, \tAverage Score: 0.0695, Time: 00:16:32 \n",
      "Episode: 5700, Score: 0.0450, \tAverage Score: 0.1305, Time: 00:17:08 \n",
      "Episode: 5750, Score: 0.0450, \tAverage Score: 0.1785, Time: 00:17:44 \n",
      "Episode: 5800, Score: 0.1950, \tAverage Score: 0.2105, Time: 00:18:32 \n"
     ]
    },
    {
     "name": "stdout",
     "output_type": "stream",
     "text": [
      "Episode: 5850, Score: 0.0950, \tAverage Score: 0.2575, Time: 00:19:26 \n",
      "Episode: 5900, Score: 0.0450, \tAverage Score: 0.1820, Time: 00:19:48 \n",
      "Episode: 5950, Score: 0.0450, \tAverage Score: 0.1020, Time: 00:20:14 \n",
      "Episode: 6000, Score: 0.0950, \tAverage Score: 0.1290, Time: 00:20:46 \n",
      "Episode: 6050, Score: 0.0450, \tAverage Score: 0.1601, Time: 00:21:23 \n",
      "Episode: 6100, Score: 0.0950, \tAverage Score: 0.1661, Time: 00:21:58 \n",
      "Episode: 6150, Score: 0.1450, \tAverage Score: 0.2121, Time: 00:22:52 \n",
      "Episode: 6200, Score: 0.2450, \tAverage Score: 0.2090, Time: 00:23:26 \n",
      "Episode: 6250, Score: 1.5450, \tAverage Score: 0.2711, Time: 00:24:42 \n",
      "Episode: 6300, Score: 0.0450, \tAverage Score: 0.3346, Time: 00:25:40 \n",
      "Episode: 6350, Score: 0.0450, \tAverage Score: 0.3450, Time: 00:27:06 \n",
      "Episode: 6400, Score: 1.4450, \tAverage Score: 0.4835, Time: 00:28:55 \n",
      "\n",
      "*** Environment solved in 6424 episodes!\tAverage Score: 0.52 ***\n",
      "\n",
      "Episode: 6450, Score: 1.8450, \tAverage Score: 0.6923, Time: 00:31:38 \n",
      "*** Episode 6450\tAverage Score: 0.69, Time: 00:31:38 ***\n",
      " \n",
      "Episode: 6500, Score: 2.6000, \tAverage Score: 1.2494, Time: 00:37:05 \n",
      "*** Episode 6500\tAverage Score: 1.25, Time: 00:37:05 ***\n",
      " \n",
      "Episode: 6550, Score: 2.6000, \tAverage Score: 1.6173, Time: 00:42:26 \n",
      "*** Episode 6550\tAverage Score: 1.62, Time: 00:42:26 ***\n",
      " \n"
     ]
    }
   ],
   "source": [
    "from collections import deque\n",
    "import time\n",
    "import os\n",
    "\n",
    "import torch\n",
    "\n",
    "def train(maddpg, env, dir_chkpoints, n_episodes=1000, save_every=50):\n",
    "    \"\"\"Training loop helper for running the environment using the MADDPG algorithm.\n",
    "    Params\n",
    "    ======\n",
    "        maddpg: instance of maddpg_agent wrapper class\n",
    "        env (UnityEnvironment): instance of Unity environment for training\n",
    "        dir_chkpoints: directory to save model weights\n",
    "        n_episodes (int): number of episodes to train for\n",
    "        save_every (int): frequency to save model weights\n",
    "    \"\"\"\n",
    "    \n",
    "    solved = False\n",
    "    scores_total = []\n",
    "    scores_deque = deque(maxlen=100)\n",
    "    scores_global = []\n",
    "    best_score = 0.0\n",
    "    time_start = time.time()\n",
    "    \n",
    "    # Environment information\n",
    "    brain_name = env.brain_names[0]\n",
    "\n",
    "    # Used for learning period to update the model weights\n",
    "    global_step_number = 0\n",
    "    \n",
    "    save_limit = 0\n",
    "    \n",
    "    for i_episode in range(1, n_episodes+1):\n",
    "        \n",
    "        env_info = env.reset(train_mode=True)[brain_name]\n",
    "        states = env_info.vector_observations\n",
    "                    \n",
    "        scores = np.zeros(num_agents)\n",
    "        maddpg.reset()\n",
    "\n",
    "        while True:\n",
    "            actions = maddpg.act(states)\n",
    "\n",
    "            env_info = env.step(actions)[brain_name]\n",
    "            next_states = env_info.vector_observations\n",
    "            rewards = env_info.rewards\n",
    "            dones = env_info.local_done\n",
    "            \n",
    "            global_step_number += 1\n",
    "            maddpg.step(states, actions, rewards, next_states, dones, global_step_number)\n",
    "\n",
    "            scores += rewards\n",
    "            states = next_states\n",
    "\n",
    "            if np.any(dones):\n",
    "                break\n",
    "        \n",
    "        mean_score = np.mean(scores) # mean on 2 agents\n",
    "        scores_total.append(mean_score)\n",
    "        scores_deque.append(mean_score) # mean on 2 agents for 100 episodes\n",
    "        score_average_100epis = np.mean(scores_deque) # value = mean on 100 episodes \n",
    "        scores_global.append(score_average_100epis) # \n",
    "        \n",
    "        print_every = 50\n",
    "        if i_episode % print_every == 0:\n",
    "            s = (int)(time.time() - time_start)\n",
    "            print('Episode: {}, Score: {:.4f}, \\tAverage Score: {:.4f}, Time: {:02}:{:02}:{:02} '\\\n",
    "                 .format(i_episode, mean_score,  score_average_100epis, s//3600, s%3600//60, s%60))\n",
    "\n",
    "        if score_average_100epis >= 0.5 and not solved:\n",
    "            print('\\n*** Environment solved in {:d} episodes!\\tAverage Score: {:.2f} ***\\n'.format(\n",
    "                i_episode, score_average_100epis))\n",
    "            solved = True\n",
    "            save_weights(dir_chkpoints,i_episode)\n",
    "            best_score = score_average_100epis\n",
    "\n",
    "        if i_episode % save_every == 0 and solved:\n",
    "            # Only save these weights if they are better than the ones previously saved\n",
    "            if score_average_100epis > best_score:\n",
    "                save_limit += 1\n",
    "                best_score = score_average_100epis\n",
    "                save_weights(dir_chkpoints,'final')\n",
    "                s = (int)(time.time() - time_start) \n",
    "                print('*** Episode {}\\tAverage Score: {:.2f}, Time: {:02}:{:02}:{:02} ***\\n '\\\n",
    "                     .format(i_episode, np.mean(scores_deque), s//3600, s%3600//60, s%60))\n",
    "        \n",
    "        if save_limit > 2:\n",
    "            break\n",
    "        \n",
    "\n",
    "    return scores_total, scores_global\n",
    "\n",
    "dir_chkpoints = ''\n",
    "scores_total, scores_global = train(maddpg, env, dir_chkpoints, n_episodes=10000)"
   ]
  },
  {
   "cell_type": "code",
   "execution_count": 10,
   "metadata": {},
   "outputs": [
    {
     "data": {
      "image/png": "[encoded data removed]",
      "text/plain": [
       "<matplotlib.figure.Figure at 0x7ff06c2d5f98>"
      ]
     },
     "metadata": {
      "needs_background": "light"
     },
     "output_type": "display_data"
    }
   ],
   "source": [
    "import matplotlib.pyplot as plt\n",
    "import numpy as np\n",
    "%matplotlib inline\n",
    "\n",
    "plt.plot(np.arange(1, len(scores_total) + 1), scores_total)\n",
    "plt.plot(np.arange(1, len(scores_global) + 1), scores_global)\n",
    "\n",
    "plt.ylabel(\"Score\")\n",
    "plt.xlabel(\"Episodes\")\n",
    "# plt.show()\n",
    "plt.savefig('plot.png')"
   ]
  },
  {
   "cell_type": "code",
   "execution_count": 13,
   "metadata": {},
   "outputs": [
    {
     "name": "stdout",
     "output_type": "stream",
     "text": [
      "0th episode: Score #1: 2.0000000298023224 Score #2: 1.9900000300258398 TimeStep: 772\n",
      "1th episode: Score #1: 1.0000000149011612 Score #2: 0.8900000136345625 TimeStep: 374\n",
      "2th episode: Score #1: 0.0 Score #2: 0.09000000171363354 TimeStep: 29\n",
      "3th episode: Score #1: 2.600000038743019 Score #2: 2.600000038743019 TimeStep: 1000\n",
      "4th episode: Score #1: 2.7000000402331352 Score #2: 2.600000038743019 TimeStep: 1000\n"
     ]
    }
   ],
   "source": [
    "maddpg = AgentHandler()\n",
    "\n",
    "for i in range(num_agents):   \n",
    "    maddpg.agents[i].actor_local.load_state_dict(torch.load('checkpoint_actor_{}_{}.pth'.format(i,'6424')))\n",
    "    maddpg.agents[i].critic_local.load_state_dict(torch.load('checkpoint_critic_{}_{}.pth'.format(i,'6424')))\n",
    "\n",
    "for i in range(5):                                         # play game for 5 episodes\n",
    "    env_info = env.reset(train_mode=False)[brain_name]     # reset the environment    \n",
    "    states = env_info.vector_observations                  # get the current state (for each agent)\n",
    "    scores = np.zeros(num_agents)                          # initialize the score (for each agent)\n",
    "    t_step = -1\n",
    "    while True:\n",
    "        actions = maddpg.act(states) # select an action (for each agent)\n",
    "#         actions = np.clip(actions, -1, 1)                  # all actions between -1 and 1\n",
    "        env_info = env.step(actions)[brain_name]           # send all actions to tne environment\n",
    "        next_states = env_info.vector_observations         # get next state (for each agent)\n",
    "        rewards = env_info.rewards                         # get reward (for each agent)\n",
    "        dones = env_info.local_done                        # see if episode finished\n",
    "        scores += env_info.rewards                         # update the score (for each agent)\n",
    "        states = next_states                               # roll over states to next time step\n",
    "        t_step += 1\n",
    "        if np.any(dones):                                  # exit loop if episode finished\n",
    "            break\n",
    "    print('{}th episode: Score #1: {} Score #2: {} TimeStep: {}'.format(i,scores[0],scores[1],t_step))"
   ]
  },
  {
   "cell_type": "code",
   "execution_count": 14,
   "metadata": {},
   "outputs": [
    {
     "name": "stdout",
     "output_type": "stream",
     "text": [
      "0th episode: Score #1: 2.600000038743019 Score #2: 2.600000038743019 TimeStep: 1000\n",
      "1th episode: Score #1: 2.600000038743019 Score #2: 2.7000000402331352 TimeStep: 1000\n",
      "2th episode: Score #1: 2.7000000402331352 Score #2: 2.600000038743019 TimeStep: 1000\n",
      "3th episode: Score #1: 2.600000038743019 Score #2: 2.600000038743019 TimeStep: 1000\n",
      "4th episode: Score #1: 2.600000038743019 Score #2: 2.7000000402331352 TimeStep: 1000\n"
     ]
    }
   ],
   "source": [
    "maddpg = AgentHandler()\n",
    "\n",
    "for i in range(num_agents):   \n",
    "    maddpg.agents[i].actor_local.load_state_dict(torch.load('checkpoint_actor_{}_{}.pth'.format(i,'final')))\n",
    "    maddpg.agents[i].critic_local.load_state_dict(torch.load('checkpoint_critic_{}_{}.pth'.format(i,'final')))\n",
    "\n",
    "for i in range(5):                                         # play game for 5 episodes\n",
    "    env_info = env.reset(train_mode=False)[brain_name]     # reset the environment    \n",
    "    states = env_info.vector_observations                  # get the current state (for each agent)\n",
    "    scores = np.zeros(num_agents)                          # initialize the score (for each agent)\n",
    "    t_step = -1\n",
    "    while True:\n",
    "        actions = maddpg.act(states) # select an action (for each agent)\n",
    "#         actions = np.clip(actions, -1, 1)                  # all actions between -1 and 1\n",
    "        env_info = env.step(actions)[brain_name]           # send all actions to tne environment\n",
    "        next_states = env_info.vector_observations         # get next state (for each agent)\n",
    "        rewards = env_info.rewards                         # get reward (for each agent)\n",
    "        dones = env_info.local_done                        # see if episode finished\n",
    "        scores += env_info.rewards                         # update the score (for each agent)\n",
    "        states = next_states                               # roll over states to next time step\n",
    "        t_step += 1\n",
    "        if np.any(dones):                                  # exit loop if episode finished\n",
    "            break\n",
    "    print('{}th episode: Score #1: {} Score #2: {} TimeStep: {}'.format(i,scores[0],scores[1],t_step))"
   ]
  },
  {
   "cell_type": "code",
   "execution_count": null,
   "metadata": {},
   "outputs": [],
   "source": []
  }
 ],
 "metadata": {
  "kernelspec": {
   "display_name": "Python 3",
   "language": "python",
   "name": "python3"
  },
  "language_info": {
   "codemirror_mode": {
    "name": "ipython",
    "version": 3
   },
   "file_extension": ".py",
   "mimetype": "text/x-python",
   "name": "python",
   "nbconvert_exporter": "python",
   "pygments_lexer": "ipython3",
   "version": "3.7.7"
  }
 },
 "nbformat": 4,
 "nbformat_minor": 2
}
